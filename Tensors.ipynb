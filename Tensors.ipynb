{
  "nbformat": 4,
  "nbformat_minor": 0,
  "metadata": {
    "colab": {
      "provenance": [],
      "include_colab_link": true
    },
    "kernelspec": {
      "name": "python3",
      "display_name": "Python 3"
    },
    "language_info": {
      "name": "python"
    }
  },
  "cells": [
    {
      "cell_type": "markdown",
      "metadata": {
        "id": "view-in-github",
        "colab_type": "text"
      },
      "source": [
        "<a href=\"https://colab.research.google.com/github/umeshrawat/AI_Math_Vedas/blob/master/Tensors.ipynb\" target=\"_parent\"><img src=\"https://colab.research.google.com/assets/colab-badge.svg\" alt=\"Open In Colab\"/></a>"
      ]
    },
    {
      "cell_type": "markdown",
      "source": [
        "## Creating Tensors in PyTorch"
      ],
      "metadata": {
        "id": "cGWkB6x_tCl2"
      }
    },
    {
      "cell_type": "code",
      "source": [
        "# !pip install torch\n",
        "import torch"
      ],
      "metadata": {
        "id": "cJc4WmIg6oOl"
      },
      "execution_count": null,
      "outputs": []
    },
    {
      "cell_type": "code",
      "source": [
        "tensor1= torch.rand(8,1,6,1)\n",
        "print(tensor1.shape)\n",
        "# tensor2= torch.rand(7,1,1,2)\n",
        "tensor2= torch.rand(8,1,1,2)\n",
        "print(tensor2.shape)\n",
        "\n",
        "print( (tensor1 + tensor2).shape )"
      ],
      "metadata": {
        "colab": {
          "base_uri": "https://localhost:8080/"
        },
        "id": "QPtxPFlo4Bfr",
        "outputId": "1ddf2df3-e2f4-4238-e8f9-1fbfd859b08b"
      },
      "execution_count": null,
      "outputs": [
        {
          "output_type": "stream",
          "name": "stdout",
          "text": [
            "torch.Size([8, 1, 6, 1])\n",
            "torch.Size([8, 1, 1, 2])\n",
            "torch.Size([8, 1, 6, 2])\n"
          ]
        }
      ]
    },
    {
      "cell_type": "code",
      "source": [],
      "metadata": {
        "id": "PRKQuHQS4BuL"
      },
      "execution_count": null,
      "outputs": []
    },
    {
      "cell_type": "code",
      "source": [
        "import torch\n",
        "# Create a 3-dimensional tensor with random values from a uniform distribution\n",
        "random_tensor = torch.rand(2, 3, 4)\n",
        "print(random_tensor)"
      ],
      "metadata": {
        "colab": {
          "base_uri": "https://localhost:8080/"
        },
        "id": "APr5Upbcgoqg",
        "outputId": "b069438b-8f62-4af1-8dfe-2d48ecab7fc6"
      },
      "execution_count": null,
      "outputs": [
        {
          "output_type": "stream",
          "name": "stdout",
          "text": [
            "tensor([[[0.6061, 0.9099, 0.6885, 0.2565],\n",
            "         [0.8600, 0.6573, 0.7965, 0.2407],\n",
            "         [0.0334, 0.4150, 0.8617, 0.9719]],\n",
            "\n",
            "        [[0.6070, 0.1488, 0.4834, 0.2877],\n",
            "         [0.4945, 0.1699, 0.6405, 0.6896],\n",
            "         [0.4553, 0.6425, 0.8732, 0.3345]]])\n"
          ]
        }
      ]
    },
    {
      "cell_type": "markdown",
      "source": [
        "## Identity Tensor"
      ],
      "metadata": {
        "id": "I0-8-1nds-eD"
      }
    },
    {
      "cell_type": "code",
      "source": [
        "def identity_matrix_with_diag (n):\n",
        "\ttensor_ones = torch.ones (n, n) #\n",
        "\t# print(tensor_ones)\n",
        "\t# In the return statement, torch.diag converts the identity_tensor to one dimension\n",
        "\t# Using torch.diag again creates a 20 tensor from the 1D tensor\n",
        "\treturn torch.diag(torch.diag(tensor_ones))"
      ],
      "metadata": {
        "id": "-uYuAHsuhNqt"
      },
      "execution_count": null,
      "outputs": []
    },
    {
      "cell_type": "code",
      "source": [
        "def identity_matrix_with_sum(n) :\n",
        "\tzeros_tensor = torch.zeros (n, n)\n",
        "\tidentity_tensor = torch.diag(torch.ones (n)) # torch.diag changes 1D \tto 2D tensor\n",
        "\tidentity_matrix = zeros_tensor + identity_tensor # Element wise addition of \ttwo tensors\n",
        "\treturn identity_matrix"
      ],
      "metadata": {
        "id": "JWwNcik0s6GL"
      },
      "execution_count": null,
      "outputs": []
    },
    {
      "cell_type": "code",
      "source": [
        "print(identity_matrix_with_diag(5))"
      ],
      "metadata": {
        "colab": {
          "base_uri": "https://localhost:8080/"
        },
        "id": "RQ97B1OwiX0p",
        "outputId": "6be0f205-4333-4d35-cecc-5f34fbed587c"
      },
      "execution_count": null,
      "outputs": [
        {
          "output_type": "stream",
          "name": "stdout",
          "text": [
            "tensor([[1., 0., 0., 0., 0.],\n",
            "        [0., 1., 0., 0., 0.],\n",
            "        [0., 0., 1., 0., 0.],\n",
            "        [0., 0., 0., 1., 0.],\n",
            "        [0., 0., 0., 0., 1.]])\n"
          ]
        }
      ]
    },
    {
      "cell_type": "code",
      "source": [
        "torch.diag(torch.diag(torch.ones(5,5)))\n",
        "# torch.diag(torch.ones(2, 5, 5))"
      ],
      "metadata": {
        "colab": {
          "base_uri": "https://localhost:8080/"
        },
        "id": "AI3AVdESyEDq",
        "outputId": "326e50c4-e0e9-4038-d513-94e096477e29"
      },
      "execution_count": null,
      "outputs": [
        {
          "output_type": "execute_result",
          "data": {
            "text/plain": [
              "tensor([[1., 0., 0., 0., 0.],\n",
              "        [0., 1., 0., 0., 0.],\n",
              "        [0., 0., 1., 0., 0.],\n",
              "        [0., 0., 0., 1., 0.],\n",
              "        [0., 0., 0., 0., 1.]])"
            ]
          },
          "metadata": {},
          "execution_count": 12
        }
      ]
    },
    {
      "cell_type": "code",
      "source": [
        "torch. tensor ([[1, 2], [3,4]])"
      ],
      "metadata": {
        "colab": {
          "base_uri": "https://localhost:8080/"
        },
        "id": "aME--gzKywqA",
        "outputId": "f8ac8301-f7c9-48ae-8522-aaebc67611ca"
      },
      "execution_count": null,
      "outputs": [
        {
          "output_type": "execute_result",
          "data": {
            "text/plain": [
              "tensor([[1, 2],\n",
              "        [3, 4]])"
            ]
          },
          "metadata": {},
          "execution_count": 14
        }
      ]
    },
    {
      "cell_type": "markdown",
      "source": [
        "## Basic Mathematical Operations on Tensors"
      ],
      "metadata": {
        "id": "BNm9-Gg_tgHo"
      }
    },
    {
      "cell_type": "code",
      "source": [
        "import torch\n",
        "# Create a base tensor\n",
        "base_tensor = torch. tensor ([[1, 2], [3,4]])\n",
        "print(\"Base Tensor: \\n\", base_tensor)\n",
        "print()\n",
        "# Create another tensor\n",
        "second_tensor = torch.tensor ([[2, 2], [1,1]])\n",
        "print(\"Second Tensor: \\n\", second_tensor)\n",
        "print()\n",
        "# Addition\n",
        "addition_tensor = base_tensor + second_tensor\n",
        "print(\"Addition: \\n\", addition_tensor)\n",
        "print()\n",
        "\n",
        "# Subtraction\n",
        "subtraction_tensor = base_tensor - second_tensor\n",
        "print(\"Subtraction: \\n\", subtraction_tensor)\n",
        "print()\n",
        "# Multiplication\n",
        "multiplication_tensor = base_tensor * second_tensor\n",
        "print(\"Multiplication: \\n\", multiplication_tensor)\n",
        "print()\n",
        "# Division\n",
        "division_tensor = base_tensor / second_tensor\n",
        "print(\"Division: In\", division_tensor)\n",
        "print()\n"
      ],
      "metadata": {
        "colab": {
          "base_uri": "https://localhost:8080/"
        },
        "id": "FHUisZwctrd7",
        "outputId": "a09f145c-48a3-48eb-c60e-0e56a7a89d48"
      },
      "execution_count": null,
      "outputs": [
        {
          "output_type": "stream",
          "name": "stdout",
          "text": [
            "Base Tensor: \n",
            " tensor([[1, 2],\n",
            "        [3, 4]])\n",
            "\n",
            "Second Tensor: \n",
            " tensor([[2, 2],\n",
            "        [1, 1]])\n",
            "\n",
            "Addition: \n",
            " tensor([[3, 4],\n",
            "        [4, 5]])\n",
            "\n",
            "Subtraction: \n",
            " tensor([[-1,  0],\n",
            "        [ 2,  3]])\n",
            "\n",
            "Multiplication: \n",
            " tensor([[2, 4],\n",
            "        [3, 4]])\n",
            "\n",
            "Division: In tensor([[0.5000, 1.0000],\n",
            "        [3.0000, 4.0000]])\n",
            "\n"
          ]
        }
      ]
    },
    {
      "cell_type": "markdown",
      "source": [
        "## Tensor indexing and slicing"
      ],
      "metadata": {
        "id": "ymAddp0-t_72"
      }
    },
    {
      "cell_type": "code",
      "source": [
        "import torch\n",
        "# Create a tensor with size (2, 3, 3)\n",
        "tensor = torch.tensor ([\n",
        "\t[[1, 2, 3], [4, 5, 6], [7, 8, 9]],\n",
        "\t[[10, 11, 12], [13, 14, 15],[16, 17,18]]\n",
        "])\n",
        "print (\"Original Tensor:\")\n",
        "print (tensor)\n",
        "print(\"\\nTensor Shape:\", tensor.shape)\n"
      ],
      "metadata": {
        "colab": {
          "base_uri": "https://localhost:8080/"
        },
        "id": "7KWgPlimuFxK",
        "outputId": "b6e5346f-4f6c-4541-d91b-8ee6fe6cc0b6"
      },
      "execution_count": null,
      "outputs": [
        {
          "output_type": "stream",
          "name": "stdout",
          "text": [
            "Original Tensor:\n",
            "tensor([[[ 1,  2,  3],\n",
            "         [ 4,  5,  6],\n",
            "         [ 7,  8,  9]],\n",
            "\n",
            "        [[10, 11, 12],\n",
            "         [13, 14, 15],\n",
            "         [16, 17, 18]]])\n",
            "\n",
            "Tensor Shape: torch.Size([2, 3, 3])\n"
          ]
        }
      ]
    },
    {
      "cell_type": "markdown",
      "source": [
        "## Tensor indexing and slicing"
      ],
      "metadata": {
        "id": "fIsmhVOTuM3N"
      }
    },
    {
      "cell_type": "code",
      "source": [
        "# Row Slice (Slice of the second row)\n",
        "row_slice = tensor[:, 1, :]\n",
        "print(\"\\nRow Slice:\")\n",
        "print (row_slice)\n",
        "print (\"Row Slice Shape:\", row_slice.shape)\n",
        "\n"
      ],
      "metadata": {
        "colab": {
          "base_uri": "https://localhost:8080/"
        },
        "id": "GY0chQy3uXBQ",
        "outputId": "1423d65d-0409-413b-a202-a522d12f58cb"
      },
      "execution_count": null,
      "outputs": [
        {
          "output_type": "stream",
          "name": "stdout",
          "text": [
            "\n",
            "Row Slice:\n",
            "tensor([[ 4,  5,  6],\n",
            "        [13, 14, 15]])\n",
            "Row Slice Shape: torch.Size([2, 3])\n"
          ]
        }
      ]
    },
    {
      "cell_type": "markdown",
      "source": [
        "## Tensor indexing and slicing"
      ],
      "metadata": {
        "id": "yPSqTtguui-0"
      }
    },
    {
      "cell_type": "code",
      "source": [
        "# Column Slice (Slice of the third column)\n",
        "column_slice = tensor[:,:, 2]\n",
        "print (\"\\nColumn Slice:\")\n",
        "print(column_slice)\n",
        "print (\"Column Slice Shape:\", column_slice.shape)\n"
      ],
      "metadata": {
        "colab": {
          "base_uri": "https://localhost:8080/"
        },
        "id": "TJ99d0Y1uo8q",
        "outputId": "043d8cf2-7d1b-47c2-a67f-bfbe5e26f998"
      },
      "execution_count": null,
      "outputs": [
        {
          "output_type": "stream",
          "name": "stdout",
          "text": [
            "\n",
            "Column Slice:\n",
            "tensor([[ 3,  6,  9],\n",
            "        [12, 15, 18]])\n",
            "Column Slice Shape: torch.Size([2, 3])\n"
          ]
        }
      ]
    },
    {
      "cell_type": "markdown",
      "source": [
        "## Tensor Indexing and Slicing"
      ],
      "metadata": {
        "id": "AoV5FGayusZV"
      }
    },
    {
      "cell_type": "code",
      "source": [
        "# Mixed Slice (Mixed slice of rows and columns)\n",
        "mixed_slice = tensor[:, 0:2, 1:3]\n",
        "print(\"\\nMixed Slice:\")\n",
        "print (mixed_slice)\n",
        "print(\"Mixed Slice Shape:\", mixed_slice.shape)\n",
        "\n"
      ],
      "metadata": {
        "colab": {
          "base_uri": "https://localhost:8080/"
        },
        "id": "gopWgt3fuzmB",
        "outputId": "3629f8e7-cf0f-4e20-9360-9c2400d569e7"
      },
      "execution_count": null,
      "outputs": [
        {
          "output_type": "stream",
          "name": "stdout",
          "text": [
            "\n",
            "Mixed Slice:\n",
            "tensor([[[ 2,  3],\n",
            "         [ 5,  6]],\n",
            "\n",
            "        [[11, 12],\n",
            "         [14, 15]]])\n",
            "Mixed Slice Shape: torch.Size([2, 2, 2])\n"
          ]
        }
      ]
    },
    {
      "cell_type": "markdown",
      "source": [
        "## Tensor Broadcasting Examples"
      ],
      "metadata": {
        "id": "wcwPLkpHu-2G"
      }
    },
    {
      "cell_type": "code",
      "source": [
        "tensor1 = torch.tensor([[1, 2, 3],[4, 5, 6]])\n",
        "tensor2 = torch.tensor ([10,20,30])\n",
        "print(\"Tensor 1: \\n\", tensor1)\n",
        "print(\"Tensor 2: \\n\", tensor2)\n",
        "print()\n",
        "print('Tensor Shapes')\n",
        "print(tensor1.shape)\n",
        "print(tensor2.shape)\n",
        "print()\n",
        "print(\"Broadcast addition: \")\n",
        "result = tensor1 + tensor2\n",
        "print(result)"
      ],
      "metadata": {
        "colab": {
          "base_uri": "https://localhost:8080/"
        },
        "id": "tXA74oQevHDn",
        "outputId": "9617cf55-09e4-43bc-97a2-ea1824003dbd"
      },
      "execution_count": null,
      "outputs": [
        {
          "output_type": "stream",
          "name": "stdout",
          "text": [
            "Tensor 1: \n",
            " tensor([[1, 2, 3],\n",
            "        [4, 5, 6]])\n",
            "Tensor 2: \n",
            " tensor([10, 20, 30])\n",
            "\n",
            "Tensor Shapes\n",
            "torch.Size([2, 3])\n",
            "torch.Size([3])\n",
            "\n",
            "Broadcast addition: \n",
            "tensor([[11, 22, 33],\n",
            "        [14, 25, 36]])\n"
          ]
        }
      ]
    },
    {
      "cell_type": "code",
      "source": [
        "# Create a tensor of shape (256, 256, 3)\n",
        "tensor1= torch.rand(256, 256, 3)\n",
        "print(\"Tensor 1:\", tensor1[:1, :3, :])\n",
        "# Create a tensor of shape (3, 2, 1)\n",
        "tensor2 = torch.rand(3)\n",
        "print(\"Tensor 2:\", tensor2)\n",
        "print()\n",
        "# Perform broadcasting for multiplication\n",
        "result = tensor1 * tensor2\n",
        "print(\"Result:\", result[:1, :3, :])\n",
        "\n",
        "print()\n",
        "print(\"Tensor 1 Shape:\", tensor1.shape)\n",
        "print(\"Tensor 2 Shape:\", tensor2.shape)\n",
        "print(\"Result Shape:\", result.shape)"
      ],
      "metadata": {
        "colab": {
          "base_uri": "https://localhost:8080/"
        },
        "id": "7ZGj-ns9hyfi",
        "outputId": "43840d0b-47ad-473f-8a0f-fa06dfee7d72"
      },
      "execution_count": null,
      "outputs": [
        {
          "output_type": "stream",
          "name": "stdout",
          "text": [
            "Tensor 1: tensor([[[0.3631, 0.1166, 0.5888],\n",
            "         [0.6707, 0.1351, 0.4265],\n",
            "         [0.1690, 0.0911, 0.1979]]])\n",
            "Tensor 2: tensor([0.7465, 0.5574, 0.7761])\n",
            "\n",
            "Result: tensor([[[0.2711, 0.0650, 0.4569],\n",
            "         [0.5007, 0.0753, 0.3310],\n",
            "         [0.1262, 0.0508, 0.1536]]])\n",
            "\n",
            "Tensor 1 Shape: torch.Size([256, 256, 3])\n",
            "Tensor 2 Shape: torch.Size([3])\n",
            "Result Shape: torch.Size([256, 256, 3])\n"
          ]
        }
      ]
    },
    {
      "cell_type": "code",
      "source": [
        "tensor1 = torch.tensor ([[1, 2,3], [4,5,6]]) # shape: (2,3)\n",
        "print(\"Tensor 1:\", tensor1)\n",
        "print()\n",
        "tensor2 = torch.tensor([[10], [20]]) # shape: (2,1)\n",
        "print(\"Tensor 2:\", tensor2)\n",
        "print()\n",
        "# Perform broadcasting for multiplication\n",
        "result = tensor1 * tensor2\n",
        "print('Result', result)\n",
        "print (\"Broadcast Multiplication: \\n\", result.shape)"
      ],
      "metadata": {
        "colab": {
          "base_uri": "https://localhost:8080/"
        },
        "id": "KOJJA9UvtWpA",
        "outputId": "03d02324-b899-4376-c5ac-c661f718b299"
      },
      "execution_count": null,
      "outputs": [
        {
          "output_type": "stream",
          "name": "stdout",
          "text": [
            "Tensor 1: tensor([[1, 2, 3],\n",
            "        [4, 5, 6]])\n",
            "\n",
            "Tensor 2: tensor([[10],\n",
            "        [20]])\n",
            "\n",
            "Result tensor([[ 10,  20,  30],\n",
            "        [ 80, 100, 120]])\n",
            "Broadcast Multiplication: \n",
            " torch.Size([2, 3])\n"
          ]
        }
      ]
    },
    {
      "cell_type": "code",
      "source": [
        "tensor1= torch.rand(8,1,6,1)\n",
        "print(\"Tensor 1:\", tensor1[:1, :, :, :])\n",
        "print()\n",
        "\n",
        "tensor2 = torch.rand(7,1,5)\n",
        "print(\"Tensor 2\", tensor2)\n",
        "print()\n",
        "# Perform broadcasting for multiplication\n",
        "result = tensor1 * tensor2\n",
        "print(\"Result:\", result[:1, :, :, :])\n",
        "\n",
        "print()\n",
        "print(\"Tensor 1 Shape:\", tensor1.shape)\n",
        "print(\"Tensor 2 Shape:\", tensor2.shape)\n",
        "print(\"Result Shape:\", result.shape)"
      ],
      "metadata": {
        "colab": {
          "base_uri": "https://localhost:8080/"
        },
        "id": "-ELYEEfWP77p",
        "outputId": "d73aca10-4c34-4c1f-f24e-b46cd287cb6d"
      },
      "execution_count": null,
      "outputs": [
        {
          "output_type": "stream",
          "name": "stdout",
          "text": [
            "Tensor 1: tensor([[[[0.5984],\n",
            "          [0.0590],\n",
            "          [0.5818],\n",
            "          [0.3552],\n",
            "          [0.9788],\n",
            "          [0.4303]]]])\n",
            "\n",
            "Tensor 2 tensor([[[0.9527, 0.1152, 0.8158, 0.1927, 0.8001]],\n",
            "\n",
            "        [[0.3323, 0.1028, 0.5554, 0.7715, 0.9050]],\n",
            "\n",
            "        [[0.9650, 0.7260, 0.7791, 0.3517, 0.6753]],\n",
            "\n",
            "        [[0.4714, 0.5746, 0.7640, 0.6665, 0.5654]],\n",
            "\n",
            "        [[0.9646, 0.7272, 0.5364, 0.6630, 0.0462]],\n",
            "\n",
            "        [[0.9833, 0.4757, 0.7993, 0.0536, 0.1791]],\n",
            "\n",
            "        [[0.5048, 0.5153, 0.4079, 0.4429, 0.3232]]])\n",
            "\n",
            "Result: tensor([[[[0.5701, 0.0689, 0.4882, 0.1153, 0.4788],\n",
            "          [0.0562, 0.0068, 0.0481, 0.0114, 0.0472],\n",
            "          [0.5543, 0.0670, 0.4746, 0.1121, 0.4655],\n",
            "          [0.3384, 0.0409, 0.2898, 0.0684, 0.2842],\n",
            "          [0.9325, 0.1128, 0.7985, 0.1886, 0.7832],\n",
            "          [0.4099, 0.0496, 0.3510, 0.0829, 0.3443]],\n",
            "\n",
            "         [[0.1988, 0.0615, 0.3323, 0.4617, 0.5416],\n",
            "          [0.0196, 0.0061, 0.0328, 0.0455, 0.0534],\n",
            "          [0.1933, 0.0598, 0.3231, 0.4489, 0.5265],\n",
            "          [0.1180, 0.0365, 0.1973, 0.2740, 0.3215],\n",
            "          [0.3253, 0.1006, 0.5436, 0.7552, 0.8859],\n",
            "          [0.1430, 0.0442, 0.2390, 0.3319, 0.3894]],\n",
            "\n",
            "         [[0.5775, 0.4344, 0.4662, 0.2104, 0.4041],\n",
            "          [0.0570, 0.0428, 0.0460, 0.0208, 0.0399],\n",
            "          [0.5615, 0.4224, 0.4533, 0.2046, 0.3929],\n",
            "          [0.3428, 0.2579, 0.2768, 0.1249, 0.2399],\n",
            "          [0.9446, 0.7106, 0.7627, 0.3442, 0.6610],\n",
            "          [0.4152, 0.3124, 0.3352, 0.1513, 0.2905]],\n",
            "\n",
            "         [[0.2821, 0.3438, 0.4572, 0.3988, 0.3383],\n",
            "          [0.0278, 0.0339, 0.0451, 0.0393, 0.0334],\n",
            "          [0.2743, 0.3343, 0.4445, 0.3878, 0.3289],\n",
            "          [0.1675, 0.2041, 0.2714, 0.2367, 0.2008],\n",
            "          [0.4615, 0.5624, 0.7478, 0.6524, 0.5534],\n",
            "          [0.2028, 0.2472, 0.3287, 0.2868, 0.2433]],\n",
            "\n",
            "         [[0.5772, 0.4351, 0.3210, 0.3968, 0.0276],\n",
            "          [0.0569, 0.0429, 0.0317, 0.0391, 0.0027],\n",
            "          [0.5612, 0.4231, 0.3121, 0.3858, 0.0269],\n",
            "          [0.3426, 0.2583, 0.1905, 0.2355, 0.0164],\n",
            "          [0.9442, 0.7118, 0.5250, 0.6490, 0.0452],\n",
            "          [0.4150, 0.3129, 0.2308, 0.2853, 0.0199]],\n",
            "\n",
            "         [[0.5884, 0.2847, 0.4783, 0.0321, 0.1072],\n",
            "          [0.0580, 0.0281, 0.0472, 0.0032, 0.0106],\n",
            "          [0.5721, 0.2768, 0.4651, 0.0312, 0.1042],\n",
            "          [0.3493, 0.1690, 0.2839, 0.0190, 0.0636],\n",
            "          [0.9625, 0.4657, 0.7824, 0.0524, 0.1753],\n",
            "          [0.4231, 0.2047, 0.3439, 0.0231, 0.0771]],\n",
            "\n",
            "         [[0.3020, 0.3083, 0.2441, 0.2651, 0.1934],\n",
            "          [0.0298, 0.0304, 0.0241, 0.0261, 0.0191],\n",
            "          [0.2937, 0.2998, 0.2373, 0.2577, 0.1880],\n",
            "          [0.1793, 0.1830, 0.1449, 0.1573, 0.1148],\n",
            "          [0.4941, 0.5044, 0.3992, 0.4336, 0.3163],\n",
            "          [0.2172, 0.2217, 0.1755, 0.1906, 0.1391]]]])\n",
            "\n",
            "Tensor 1 Shape: torch.Size([8, 1, 6, 1])\n",
            "Tensor 2 Shape: torch.Size([7, 1, 5])\n",
            "Result Shape: torch.Size([8, 7, 6, 5])\n"
          ]
        }
      ]
    },
    {
      "cell_type": "code",
      "source": [
        "import numpy as np\n",
        "np.random.randn(4,3)#.argmin(axis=1)#.sum(axis=0)\n",
        "arr = [1, 2, 4], [9, 7, 6], [7, 14, 9], [10, 16, 12]\n",
        "np.array(arr).argmax(axis=1)"
      ],
      "metadata": {
        "colab": {
          "base_uri": "https://localhost:8080/"
        },
        "id": "tiiaVq0ivWd9",
        "outputId": "2ef780d7-0015-4f74-f5ca-7a8e84af12b6"
      },
      "execution_count": null,
      "outputs": [
        {
          "output_type": "execute_result",
          "data": {
            "text/plain": [
              "array([2, 0, 1, 1])"
            ]
          },
          "metadata": {},
          "execution_count": 79
        }
      ]
    },
    {
      "cell_type": "markdown",
      "source": [
        "## Tensor Reduction Examples"
      ],
      "metadata": {
        "id": "BWDKdQ9nvZxe"
      }
    },
    {
      "cell_type": "code",
      "source": [
        "# Create a tensor\n",
        "tensor = torch.tensor([[1, 2, 3],\n",
        "[4, 5, 6],\n",
        "[7, 8, 9]],dtype=torch.float64)\n",
        "print()\n",
        "print(\"Original Tensor:\")\n",
        "print(tensor)\n",
        "print()\n",
        "print(\"Tensor Shape:\", tensor.shape)\n",
        "print()\n",
        "\n",
        "# tensor reduction operations\n",
        "# Tensor Reduction Operations\n",
        "print('Along Dim 0')\n",
        "sum_result = torch.sum(tensor, dim=0)\n",
        "mean_result = torch.mean(tensor, dim=0)\n",
        "max_result = torch.max(tensor, dim=0)\n",
        "min_result = torch.min(tensor, dim=0)\n",
        "argmax_result = torch.argmax(tensor, dim=0)\n",
        "argmin_result = torch.argmin(tensor, dim=0)\n",
        "\n",
        "print(sum_result)\n",
        "print(mean_result)\n",
        "print(max_result)\n",
        "print(min_result)\n",
        "print(argmax_result)\n",
        "print(argmin_result)\n",
        "\n",
        "print('\\n')\n",
        "\n",
        "print('Along Dim 1')\n",
        "sum_result = torch.sum(tensor, dim=1)\n",
        "mean_result = torch.mean(tensor, dim=1)\n",
        "max_result = torch.max(tensor, dim=1)\n",
        "min_result = torch.min(tensor, dim=1)\n",
        "argmax_result = torch.argmax(tensor, dim=1)\n",
        "argmin_result = torch.argmin(tensor, dim=1)\n",
        "\n",
        "print(sum_result)\n",
        "print(mean_result)\n",
        "print(max_result)\n",
        "print(min_result)\n",
        "print(argmax_result)\n",
        "print(argmin_result)\n",
        "\n",
        "print('\\n')\n",
        "\n",
        "# Tensor Reduction Operations\n",
        "print(\"No dimension given\")\n",
        "sum_result = torch.sum(tensor)\n",
        "mean_result = torch.mean(tensor)\n",
        "max_result = torch.max(tensor)\n",
        "min_result = torch.min(tensor)\n",
        "argmax_result = torch.argmax(tensor)\n",
        "argmin_result = torch.argmin(tensor)\n",
        "\n",
        "print(sum_result)\n",
        "print(mean_result)\n",
        "print(max_result)\n",
        "print(min_result)\n",
        "print(argmax_result)\n",
        "print(argmin_result)\n"
      ],
      "metadata": {
        "colab": {
          "base_uri": "https://localhost:8080/"
        },
        "id": "xS20BtNmvfPG",
        "outputId": "71e83fef-0324-4e1d-dc81-d2fc500ccbd5"
      },
      "execution_count": null,
      "outputs": [
        {
          "output_type": "stream",
          "name": "stdout",
          "text": [
            "\n",
            "Original Tensor:\n",
            "tensor([[1., 2., 3.],\n",
            "        [4., 5., 6.],\n",
            "        [7., 8., 9.]], dtype=torch.float64)\n",
            "\n",
            "Tensor Shape: torch.Size([3, 3])\n",
            "\n",
            "Along Dim 0\n",
            "tensor([12., 15., 18.], dtype=torch.float64)\n",
            "tensor([4., 5., 6.], dtype=torch.float64)\n",
            "torch.return_types.max(\n",
            "values=tensor([7., 8., 9.], dtype=torch.float64),\n",
            "indices=tensor([2, 2, 2]))\n",
            "torch.return_types.min(\n",
            "values=tensor([1., 2., 3.], dtype=torch.float64),\n",
            "indices=tensor([0, 0, 0]))\n",
            "tensor([2, 2, 2])\n",
            "tensor([0, 0, 0])\n",
            "\n",
            "\n",
            "Along Dim 1\n",
            "tensor([ 6., 15., 24.], dtype=torch.float64)\n",
            "tensor([2., 5., 8.], dtype=torch.float64)\n",
            "torch.return_types.max(\n",
            "values=tensor([3., 6., 9.], dtype=torch.float64),\n",
            "indices=tensor([2, 2, 2]))\n",
            "torch.return_types.min(\n",
            "values=tensor([1., 4., 7.], dtype=torch.float64),\n",
            "indices=tensor([0, 0, 0]))\n",
            "tensor([2, 2, 2])\n",
            "tensor([0, 0, 0])\n",
            "\n",
            "\n",
            "No dimension given\n",
            "tensor(45., dtype=torch.float64)\n",
            "tensor(5., dtype=torch.float64)\n",
            "tensor(9., dtype=torch.float64)\n",
            "tensor(1., dtype=torch.float64)\n",
            "tensor(8)\n",
            "tensor(0)\n"
          ]
        }
      ]
    },
    {
      "cell_type": "markdown",
      "source": [
        "## Contguous Example"
      ],
      "metadata": {
        "id": "XAc7h5Mo5PmA"
      }
    },
    {
      "cell_type": "code",
      "source": [
        "# Create a tensor of shape [4, 3]\n",
        "x = torch.arange(12).view(4, 3)\n",
        "print('Tensor:', x)\n",
        "print('Stride:', x.stride())\n",
        "print(x.is_contiguous())"
      ],
      "metadata": {
        "colab": {
          "base_uri": "https://localhost:8080/"
        },
        "id": "dbzlrck-5PKo",
        "outputId": "ed260f2b-41a1-4aa2-e603-2a01e8ce6df4"
      },
      "execution_count": null,
      "outputs": [
        {
          "output_type": "stream",
          "name": "stdout",
          "text": [
            "Tensor: tensor([[ 0,  1,  2],\n",
            "        [ 3,  4,  5],\n",
            "        [ 6,  7,  8],\n",
            "        [ 9, 10, 11]])\n",
            "Stride: (3, 1)\n",
            "True\n"
          ]
        }
      ]
    },
    {
      "cell_type": "code",
      "source": [
        "y = x.t()\n",
        "print('Tensor:', y)\n",
        "print('Stride:', y.stride())\n",
        "print(y.is_contiguous())"
      ],
      "metadata": {
        "colab": {
          "base_uri": "https://localhost:8080/"
        },
        "id": "pZ2X4Lvh5Ojy",
        "outputId": "9d25ea64-5e8f-4425-c4cc-08e30d6b9c32"
      },
      "execution_count": null,
      "outputs": [
        {
          "output_type": "stream",
          "name": "stdout",
          "text": [
            "Tensor: tensor([[ 0,  3,  6,  9],\n",
            "        [ 1,  4,  7, 10],\n",
            "        [ 2,  5,  8, 11]])\n",
            "Stride: (1, 3)\n",
            "False\n"
          ]
        }
      ]
    },
    {
      "cell_type": "markdown",
      "source": [
        "## Examples of view and reshape"
      ],
      "metadata": {
        "id": "0wOw7cR9xCDd"
      }
    },
    {
      "cell_type": "code",
      "source": [
        "# Create a contiguous 2D tensor\n",
        "tensor = torch. tensor([\n",
        "\t[1, 2, 3],\n",
        "\t[4, 5, 6]\n",
        "])\n",
        "# Reshape the tensor using view\n",
        "reshaped_tensor = tensor.view(3, 2)\n",
        "print(\"Original Tensor:\")\n",
        "print (tensor)\n",
        "print (\"\\nReshaped Tensor:\")\n",
        "print (reshaped_tensor)\n",
        "\n"
      ],
      "metadata": {
        "colab": {
          "base_uri": "https://localhost:8080/"
        },
        "id": "ZDd5G7LOxI7E",
        "outputId": "d717d40d-b933-416d-d54e-f6cf63c9410d"
      },
      "execution_count": null,
      "outputs": [
        {
          "output_type": "stream",
          "name": "stdout",
          "text": [
            "Original Tensor:\n",
            "tensor([[1, 2, 3],\n",
            "        [4, 5, 6]])\n",
            "\n",
            "Reshaped Tensor:\n",
            "tensor([[1, 2],\n",
            "        [3, 4],\n",
            "        [5, 6]])\n"
          ]
        }
      ]
    },
    {
      "cell_type": "code",
      "source": [],
      "metadata": {
        "id": "mvixfuiN45rs"
      },
      "execution_count": null,
      "outputs": []
    },
    {
      "cell_type": "markdown",
      "source": [
        "## Examples of view and reshape"
      ],
      "metadata": {
        "id": "_nyX9aLpxSse"
      }
    },
    {
      "cell_type": "code",
      "source": [
        "import torch\n",
        "# Create a non-contiguous 2D tensor using slicing\n",
        "tensor = torch. tensor([[1, 2, 3, 4, 5, 6]])\n",
        "sliced_tensor = tensor[:, :3]\n",
        "# Reshape the tensor using reshape\n",
        "# reshaped_tensor = torch.reshape(sliced_tensor, (1, 3))\n",
        "# reshaped_tensor = torch.reshape(sliced_tensor, (3, 1))\n",
        "print (\"Original Tensor:\")\n",
        "print (sliced_tensor)\n",
        "print(\"\\nReshaped Tensor:\")\n",
        "print (reshaped_tensor)\n"
      ],
      "metadata": {
        "colab": {
          "base_uri": "https://localhost:8080/"
        },
        "id": "HrDc9ZuvxZNQ",
        "outputId": "bbd965ac-b372-41e1-b01e-24f0f5ed2e93"
      },
      "execution_count": null,
      "outputs": [
        {
          "output_type": "stream",
          "name": "stdout",
          "text": [
            "Original Tensor:\n",
            "tensor([[1, 2, 3]])\n",
            "\n",
            "Reshaped Tensor:\n",
            "tensor([[1],\n",
            "        [2],\n",
            "        [3]])\n"
          ]
        }
      ]
    },
    {
      "cell_type": "markdown",
      "source": [
        "Slide 37 : The -1 trick in view()"
      ],
      "metadata": {
        "id": "zRQJsMSZxiFA"
      }
    },
    {
      "cell_type": "code",
      "source": [
        "import torch\n",
        "# Create a tensor with size (2, 4)\n",
        "tensor = torch. tensor([\n",
        "\t[1, 2, 3, 4],\n",
        "\t[5, 6, 7, 8]\n",
        "])\n",
        "# Reshape the tensor using view and -1 trick\n",
        "reshaped_tensor = tensor.view(-1, 2)\n",
        "print(\"Original Tensor:\")\n",
        "print (tensor)\n",
        "print (\"\\\\nReshaped Tensor:\")\n",
        "print (reshaped_tensor)\n"
      ],
      "metadata": {
        "colab": {
          "base_uri": "https://localhost:8080/"
        },
        "id": "cAfkbskgxnc0",
        "outputId": "6bd44582-a3fb-407b-832f-7d0b0867b36a"
      },
      "execution_count": null,
      "outputs": [
        {
          "output_type": "stream",
          "name": "stdout",
          "text": [
            "Original Tensor:\n",
            "tensor([[1, 2, 3, 4],\n",
            "        [5, 6, 7, 8]])\n",
            "\\nReshaped Tensor:\n",
            "tensor([[1, 2],\n",
            "        [3, 4],\n",
            "        [5, 6],\n",
            "        [7, 8]])\n"
          ]
        }
      ]
    },
    {
      "cell_type": "code",
      "source": [
        "a= torch.ones(2,3,4)\n",
        "b= a.view(1,4,-1)\n",
        "print(b.shape)"
      ],
      "metadata": {
        "colab": {
          "base_uri": "https://localhost:8080/"
        },
        "id": "62ZcRavgYlZe",
        "outputId": "fe59b917-4460-4249-f7f5-b3c6320080a7"
      },
      "execution_count": null,
      "outputs": [
        {
          "output_type": "stream",
          "name": "stdout",
          "text": [
            "torch.Size([1, 4, 6])\n"
          ]
        }
      ]
    },
    {
      "cell_type": "code",
      "source": [
        "## example\n",
        "x = torch.arange(24).view(2, 3, 4)\n",
        "print(x)\n",
        "print()\n",
        "print(x.view(1, 4, -1))"
      ],
      "metadata": {
        "colab": {
          "base_uri": "https://localhost:8080/"
        },
        "id": "AQjD_P-a6vL5",
        "outputId": "e6971aa5-2222-4fb8-8800-01342ebe8102"
      },
      "execution_count": null,
      "outputs": [
        {
          "output_type": "stream",
          "name": "stdout",
          "text": [
            "tensor([[[ 0,  1,  2,  3],\n",
            "         [ 4,  5,  6,  7],\n",
            "         [ 8,  9, 10, 11]],\n",
            "\n",
            "        [[12, 13, 14, 15],\n",
            "         [16, 17, 18, 19],\n",
            "         [20, 21, 22, 23]]])\n",
            "\n",
            "tensor([[[ 0,  1,  2,  3,  4,  5],\n",
            "         [ 6,  7,  8,  9, 10, 11],\n",
            "         [12, 13, 14, 15, 16, 17],\n",
            "         [18, 19, 20, 21, 22, 23]]])\n"
          ]
        }
      ]
    },
    {
      "cell_type": "code",
      "source": [
        "x = torch.arange(20).view(1, 10,1, 2)\n",
        "print(x)\n",
        "print(x.shape)\n",
        "print(x.squeeze(0))\n",
        "print(x.squeeze().shape)# change dimension each side"
      ],
      "metadata": {
        "colab": {
          "base_uri": "https://localhost:8080/"
        },
        "id": "3J_5Po0DCSeJ",
        "outputId": "a82d2243-ae0b-4382-be01-302e22863169"
      },
      "execution_count": null,
      "outputs": [
        {
          "output_type": "stream",
          "name": "stdout",
          "text": [
            "tensor([[[[ 0,  1]],\n",
            "\n",
            "         [[ 2,  3]],\n",
            "\n",
            "         [[ 4,  5]],\n",
            "\n",
            "         [[ 6,  7]],\n",
            "\n",
            "         [[ 8,  9]],\n",
            "\n",
            "         [[10, 11]],\n",
            "\n",
            "         [[12, 13]],\n",
            "\n",
            "         [[14, 15]],\n",
            "\n",
            "         [[16, 17]],\n",
            "\n",
            "         [[18, 19]]]])\n",
            "torch.Size([1, 10, 1, 2])\n",
            "tensor([[[ 0,  1]],\n",
            "\n",
            "        [[ 2,  3]],\n",
            "\n",
            "        [[ 4,  5]],\n",
            "\n",
            "        [[ 6,  7]],\n",
            "\n",
            "        [[ 8,  9]],\n",
            "\n",
            "        [[10, 11]],\n",
            "\n",
            "        [[12, 13]],\n",
            "\n",
            "        [[14, 15]],\n",
            "\n",
            "        [[16, 17]],\n",
            "\n",
            "        [[18, 19]]])\n",
            "torch.Size([10, 2])\n"
          ]
        }
      ]
    },
    {
      "cell_type": "code",
      "source": [],
      "metadata": {
        "id": "ZbQrOsFRCX9f"
      },
      "execution_count": null,
      "outputs": []
    },
    {
      "cell_type": "code",
      "source": [
        "b"
      ],
      "metadata": {
        "id": "Sa_uN99oCXWd"
      },
      "execution_count": null,
      "outputs": []
    },
    {
      "cell_type": "markdown",
      "source": [
        "## Transpose"
      ],
      "metadata": {
        "id": "Zu1MCrzlxvQd"
      }
    },
    {
      "cell_type": "code",
      "source": [
        "# import torch\n",
        "# Example tensor\n",
        "x = torch.tensor([[1, 2, 3], [4, 5, 6]])\n",
        "print (\"Original tensor:\")\n",
        "print (x)\n",
        "print(\"Shape of original tensor:\", x.shape)\n",
        "# Transpose the tensor\n",
        "y = torch.transpose (x, 0, 1)\n",
        "print (\"Transposed tensor:\")\n",
        "print (y)\n",
        "print(\"Shape of transposed tensor:\", y.shape)\n",
        "\n"
      ],
      "metadata": {
        "colab": {
          "base_uri": "https://localhost:8080/"
        },
        "id": "Bh5iLw82xzNr",
        "outputId": "f17c6096-508e-474d-a951-99d1eb638bf9"
      },
      "execution_count": null,
      "outputs": [
        {
          "output_type": "stream",
          "name": "stdout",
          "text": [
            "Original tensor:\n",
            "tensor([[1, 2, 3],\n",
            "        [4, 5, 6]])\n",
            "Shape of original tensor: torch.Size([2, 3])\n",
            "Transposed tensor:\n",
            "tensor([[1, 4],\n",
            "        [2, 5],\n",
            "        [3, 6]])\n",
            "Shape of transposed tensor: torch.Size([3, 2])\n"
          ]
        }
      ]
    },
    {
      "cell_type": "code",
      "source": [
        "# multi tensor setting\n",
        "x = torch.arange(24).view(2, 3, 4)\n",
        "print(x)\n",
        "print(x.shape)\n",
        "print()\n",
        "y = torch.transpose(x, 1, 2)# what happens if I put 0 and 1?\n",
        "y\n",
        "# print(x.t())"
      ],
      "metadata": {
        "colab": {
          "base_uri": "https://localhost:8080/"
        },
        "id": "zU_ODoU88SZ9",
        "outputId": "22c04aa0-d01f-40b4-be96-1dfdb95a8ab2"
      },
      "execution_count": null,
      "outputs": [
        {
          "output_type": "stream",
          "name": "stdout",
          "text": [
            "tensor([[[ 0,  1,  2,  3],\n",
            "         [ 4,  5,  6,  7],\n",
            "         [ 8,  9, 10, 11]],\n",
            "\n",
            "        [[12, 13, 14, 15],\n",
            "         [16, 17, 18, 19],\n",
            "         [20, 21, 22, 23]]])\n",
            "torch.Size([2, 3, 4])\n",
            "\n"
          ]
        },
        {
          "output_type": "execute_result",
          "data": {
            "text/plain": [
              "tensor([[[ 0,  4,  8],\n",
              "         [ 1,  5,  9],\n",
              "         [ 2,  6, 10],\n",
              "         [ 3,  7, 11]],\n",
              "\n",
              "        [[12, 16, 20],\n",
              "         [13, 17, 21],\n",
              "         [14, 18, 22],\n",
              "         [15, 19, 23]]])"
            ]
          },
          "metadata": {},
          "execution_count": 16
        }
      ]
    },
    {
      "cell_type": "markdown",
      "source": [
        "## Concatenating tensors"
      ],
      "metadata": {
        "id": "tHfvG4C1yAPn"
      }
    },
    {
      "cell_type": "code",
      "source": [
        "import torch\n",
        "# Create tensors\n",
        "tensor1 = torch.tensor ([\n",
        "[1, 2, 3],\n",
        "[4, 5, 6],\n",
        "[7, 8, 9]\n",
        "])\n",
        "tensor2 = torch.tensor([\n",
        "[10, 11, 12],\n",
        "[13, 14, 15],\n",
        "[16, 17, 18]\n",
        "])\n",
        "# Concatenate tensors along dimension 1\n",
        "concatenated_tensor = torch.cat((tensor1, tensor2), dim=1)#what happens with dim 0?\n",
        "# Display results\n",
        "print (\"Tensor 1:\")\n",
        "print (tensor1)\n",
        "print (\"\\nTensor 2:\")\n",
        "print (tensor2)\n",
        "print (\"\\nConcatenated Tensor:\")\n",
        "print (concatenated_tensor)\n",
        "\n"
      ],
      "metadata": {
        "colab": {
          "base_uri": "https://localhost:8080/"
        },
        "id": "0Bu1PsXbyFCn",
        "outputId": "63505e81-837b-49f1-d5e4-a5e57b134d8e"
      },
      "execution_count": null,
      "outputs": [
        {
          "output_type": "stream",
          "name": "stdout",
          "text": [
            "Tensor 1:\n",
            "tensor([[1, 2, 3],\n",
            "        [4, 5, 6],\n",
            "        [7, 8, 9]])\n",
            "\n",
            "Tensor 2:\n",
            "tensor([[10, 11, 12],\n",
            "        [13, 14, 15],\n",
            "        [16, 17, 18]])\n",
            "\n",
            "Concatenated Tensor:\n",
            "tensor([[ 1,  2,  3, 10, 11, 12],\n",
            "        [ 4,  5,  6, 13, 14, 15],\n",
            "        [ 7,  8,  9, 16, 17, 18]])\n"
          ]
        }
      ]
    },
    {
      "cell_type": "markdown",
      "source": [
        "## Splitting Tensors"
      ],
      "metadata": {
        "id": "udRotT-ZykMZ"
      }
    },
    {
      "cell_type": "code",
      "source": [
        "import torch\n",
        "# Create a tensor\n",
        "tensor = torch.tensor([[1, 2, 3],\n",
        "\t[4, 5, 6],\n",
        "\t[7, 8, 9],\n",
        "\t[10, 11, 12]\n",
        "])\n",
        "# Split the tensor along dimension 0 into two parts\n",
        "split_tensors = torch.split(tensor, split_size_or_sections=2, dim=0)\n",
        "# Display results\n",
        "print(\"Original Tensor:\")\n",
        "print (tensor)\n",
        "print (\"\\nSplit Tensors:\")\n",
        "for j, split_tensor in enumerate(split_tensors):\n",
        "  print(f\"Tensor split {j+1}\", split_tensor)\n",
        "\n"
      ],
      "metadata": {
        "colab": {
          "base_uri": "https://localhost:8080/"
        },
        "id": "cKWZmd_AynGp",
        "outputId": "5736fb1e-9cd0-4f09-b966-4d5a8d2a6d2b"
      },
      "execution_count": null,
      "outputs": [
        {
          "output_type": "stream",
          "name": "stdout",
          "text": [
            "Original Tensor:\n",
            "tensor([[ 1,  2,  3],\n",
            "        [ 4,  5,  6],\n",
            "        [ 7,  8,  9],\n",
            "        [10, 11, 12]])\n",
            "\n",
            "Split Tensors:\n",
            "Tensor split 1 tensor([[1, 2, 3],\n",
            "        [4, 5, 6]])\n",
            "Tensor split 2 tensor([[ 7,  8,  9],\n",
            "        [10, 11, 12]])\n"
          ]
        }
      ]
    },
    {
      "cell_type": "code",
      "source": [
        "# how is this different from view?\n",
        "# well with view, we are still keeping one tensor\n",
        "tensor.view(2, 2, 3)"
      ],
      "metadata": {
        "colab": {
          "base_uri": "https://localhost:8080/"
        },
        "id": "qt0_edAR-KrM",
        "outputId": "cdd1e8fe-7a17-47ea-fade-337be6ca6a71"
      },
      "execution_count": null,
      "outputs": [
        {
          "output_type": "execute_result",
          "data": {
            "text/plain": [
              "tensor([[[ 1,  2,  3],\n",
              "         [ 4,  5,  6]],\n",
              "\n",
              "        [[ 7,  8,  9],\n",
              "         [10, 11, 12]]])"
            ]
          },
          "metadata": {},
          "execution_count": 36
        }
      ]
    },
    {
      "cell_type": "markdown",
      "source": [
        "## Stacking tensors"
      ],
      "metadata": {
        "id": "Sn4jXcN6zAim"
      }
    },
    {
      "cell_type": "code",
      "source": [
        "import torch\n",
        "# Create tensors\n",
        "tensor1 = torch. tensor ([\n",
        "[1, 2, 3],\n",
        "[4, 5, 6],\n",
        "[7, 8, 9]\n",
        "])\n",
        "tensor2 = torch.tensor([\n",
        "[10, 11, 12],\n",
        "[13, 14, 15],\n",
        "[16, 17, 18]\n",
        "])\n",
        "# Stack tensors along a new dimension\n",
        "stacked_tensor = torch.stack((tensor1, tensor2), dim=-1)\n",
        "# tensors are 3x3\n",
        "# dim = 0 will add a dimension to the combined 0th dimension\n",
        "# combined -> 1x3x3 -> stacked 2x3x3\n",
        "# dim=1 will add a dimension to the 1st dimension\n",
        "# combined -> 3x1x3 -> 3x2x3\n",
        "# dim=2 will add a dimension to the 2nd dimension\n",
        "# combined -> 3x3x1 -> 3x3x2\n",
        "\n",
        "# Display results\n",
        "print (\"Tensor 1:\")\n",
        "print (tensor1)\n",
        "print(\"\\nTensor 2:\")\n",
        "print (tensor2)\n",
        "print (\"\\nStacked Tensor:\")\n",
        "print (stacked_tensor)\n",
        "\n"
      ],
      "metadata": {
        "colab": {
          "base_uri": "https://localhost:8080/"
        },
        "id": "UU6T1mM-zD0T",
        "outputId": "d53d51c6-8ab7-4a84-ba48-847fbaeda185"
      },
      "execution_count": null,
      "outputs": [
        {
          "output_type": "stream",
          "name": "stdout",
          "text": [
            "Tensor 1:\n",
            "tensor([[1, 2, 3],\n",
            "        [4, 5, 6],\n",
            "        [7, 8, 9]])\n",
            "\n",
            "Tensor 2:\n",
            "tensor([[10, 11, 12],\n",
            "        [13, 14, 15],\n",
            "        [16, 17, 18]])\n",
            "\n",
            "Stacked Tensor:\n",
            "tensor([[[ 1, 10],\n",
            "         [ 2, 11],\n",
            "         [ 3, 12]],\n",
            "\n",
            "        [[ 4, 13],\n",
            "         [ 5, 14],\n",
            "         [ 6, 15]],\n",
            "\n",
            "        [[ 7, 16],\n",
            "         [ 8, 17],\n",
            "         [ 9, 18]]])\n"
          ]
        }
      ]
    },
    {
      "cell_type": "code",
      "source": [
        "stacked_tensor.shape"
      ],
      "metadata": {
        "colab": {
          "base_uri": "https://localhost:8080/"
        },
        "id": "l-DK4901aspu",
        "outputId": "78419479-51ab-4142-8c5c-999dbf97e43f"
      },
      "execution_count": null,
      "outputs": [
        {
          "output_type": "execute_result",
          "data": {
            "text/plain": [
              "torch.Size([3, 3, 2])"
            ]
          },
          "metadata": {},
          "execution_count": 9
        }
      ]
    },
    {
      "cell_type": "markdown",
      "source": [
        "## Example of Gradient calculation - using Autograd"
      ],
      "metadata": {
        "id": "NOSt_Fk7zKJd"
      }
    },
    {
      "cell_type": "code",
      "source": [
        "import torch\n",
        "# Enable gradient tracking\n",
        "x = torch.tensor(3.0, requires_grad=True)\n",
        "# Perform operations on the tensor\n",
        "y = 2 * x + 1\n",
        "z = y ** 2\n",
        "# Compute gradients\n",
        "z.backward()\n",
        "# Access the computed gradients\n",
        "x_grad = x.grad\n",
        "\n",
        "print(x_grad)"
      ],
      "metadata": {
        "id": "FySgkdiAzNXB",
        "colab": {
          "base_uri": "https://localhost:8080/"
        },
        "outputId": "0da45f67-86db-4865-f83a-8c545ec97c6e"
      },
      "execution_count": null,
      "outputs": [
        {
          "output_type": "stream",
          "name": "stdout",
          "text": [
            "tensor(28.)\n"
          ]
        }
      ]
    },
    {
      "cell_type": "markdown",
      "source": [
        "Slide 52 : Detaching and no grad()"
      ],
      "metadata": {
        "id": "dZPM53mUzZWL"
      }
    },
    {
      "cell_type": "code",
      "source": [
        "import torch\n",
        "# Create a tensor with tracking enabled\n",
        "x = torch.tensor([3.0], requires_grad=True)\n",
        "# Perform operations on the tensor\n",
        "y = x**2 + 2*x + 1\n",
        "# Stop tracking gradients using detach()\n",
        "z = y.detach()\n",
        "\n",
        "# Perform further operations without tracking\n",
        "with torch.no_grad() :\n",
        "  w = z * 2\n",
        "print(w)"
      ],
      "metadata": {
        "colab": {
          "base_uri": "https://localhost:8080/"
        },
        "id": "PWx3fNy2zgYV",
        "outputId": "eb453717-66bf-4289-f173-b203052d1076"
      },
      "execution_count": null,
      "outputs": [
        {
          "output_type": "stream",
          "name": "stdout",
          "text": [
            "tensor([32.])\n"
          ]
        }
      ]
    },
    {
      "cell_type": "markdown",
      "source": [
        "Slide 53 : Advanced Autograd operations"
      ],
      "metadata": {
        "id": "LROibuZSzzPF"
      }
    },
    {
      "cell_type": "code",
      "source": [
        "import torch\n",
        "x = torch. tensor([2.0], requires_grad=True)\n",
        "y = torch.tensor([3.0], requires_grad=True)\n",
        "z = x ** 2 + y ** 3\n",
        "z.backward(retain_graph=True) # Specify retain_graph=True\n",
        "print(x.grad) # Partial derivative of z with respect to x\n",
        "print(y.grad) # Partial derivative of z with respect to y\n",
        "z.backward (retain_graph=True)\n",
        "print(x.grad) # Second-order partial derivative of z with respect to X\n",
        "print(y.grad) # Second-order partial derivative of z with respect to y\n",
        "z.backward ()\n",
        "print(x.grad)\n",
        "print(y.grad)"
      ],
      "metadata": {
        "colab": {
          "base_uri": "https://localhost:8080/"
        },
        "id": "E6SCjaOAz4TA",
        "outputId": "3a8c4a69-e8b4-4d01-db87-e809aea8ca53"
      },
      "execution_count": null,
      "outputs": [
        {
          "output_type": "stream",
          "name": "stdout",
          "text": [
            "tensor([4.])\n",
            "tensor([27.])\n",
            "tensor([8.])\n",
            "tensor([54.])\n",
            "tensor([12.])\n",
            "tensor([81.])\n"
          ]
        }
      ]
    },
    {
      "cell_type": "markdown",
      "source": [
        "Slide 55: Advanced autograd operations"
      ],
      "metadata": {
        "id": "US1uHNyK0izH"
      }
    },
    {
      "cell_type": "code",
      "source": [
        "import torch\n",
        "from torch.autograd.functional import hessian\n",
        "\n",
        "# Create a tensor with requires_grad=True\n",
        "x = torch.tensor([[1.0, 2.0, 3.0], [2.5, 3.5, 4.5]], requires_grad=True)\n",
        "\n",
        "print(x)\n",
        "# Define a function that returns a scalar\n",
        "def scalar_function(x):\n",
        "  return (x ** 3).sum()\n",
        "\n",
        "# Compute the Hessian matrix\n",
        "hessian_matrix = hessian (scalar_function, x)\n",
        "\n",
        "# Access the Hessian matrix\n",
        "print (hessian_matrix)\n",
        "\n"
      ],
      "metadata": {
        "colab": {
          "base_uri": "https://localhost:8080/"
        },
        "id": "CoRms-A00mOQ",
        "outputId": "a4ebf08e-96a2-44c7-e2fa-9d1ca306ba6e"
      },
      "execution_count": null,
      "outputs": [
        {
          "output_type": "stream",
          "name": "stdout",
          "text": [
            "tensor([[1.0000, 2.0000, 3.0000],\n",
            "        [2.5000, 3.5000, 4.5000]], requires_grad=True)\n",
            "tensor([[[[ 6.,  0.,  0.],\n",
            "          [ 0.,  0.,  0.]],\n",
            "\n",
            "         [[ 0., 12.,  0.],\n",
            "          [ 0.,  0.,  0.]],\n",
            "\n",
            "         [[ 0.,  0., 18.],\n",
            "          [ 0.,  0.,  0.]]],\n",
            "\n",
            "\n",
            "        [[[ 0.,  0.,  0.],\n",
            "          [15.,  0.,  0.]],\n",
            "\n",
            "         [[ 0.,  0.,  0.],\n",
            "          [ 0., 21.,  0.]],\n",
            "\n",
            "         [[ 0.,  0.,  0.],\n",
            "          [ 0.,  0., 27.]]]])\n"
          ]
        }
      ]
    },
    {
      "cell_type": "markdown",
      "source": [
        " Slide 57: Example of Pytorch Eager mode"
      ],
      "metadata": {
        "id": "8yuMPits0-3q"
      }
    },
    {
      "cell_type": "code",
      "source": [
        "import torch\n",
        "# Initializing input tensors\n",
        "a = torch.tensor(15.0,requires_grad=True)\n",
        "b = torch.tensor(20.0,requires_grad=True)\n",
        "# Enable eager mode execution\n",
        "torch.set_grad_enabled(True)\n",
        "# Computing the output\n",
        "c = a * b\n",
        "# Computing the gradients\n",
        "c.backward()\n",
        "# Collecting the output gradient of the\n",
        "# output with respect to the input 'a'\n",
        "derivative_out_a = a.grad\n",
        "# Collecting the output gradient of the\n",
        "# output with respect to the input 'b'\n",
        "derivative_out_b = b.grad\n",
        "# Displaying the outputs\n",
        "print(f'a = {a}')\n",
        "print(f'b = {b}')\n",
        "print (f'c = {c}')\n",
        "print(f'Derivative of c with respect to a = {derivative_out_a}')\n",
        "print(f'Derivative of c with respect to b = {derivative_out_b}')\n",
        "\n"
      ],
      "metadata": {
        "colab": {
          "base_uri": "https://localhost:8080/"
        },
        "id": "vnK3wgw81GpD",
        "outputId": "782c5ceb-0e08-4de8-97be-413bdd50c755"
      },
      "execution_count": null,
      "outputs": [
        {
          "output_type": "stream",
          "name": "stdout",
          "text": [
            "a = 15.0\n",
            "b = 20.0\n",
            "c = 300.0\n",
            "Derivative of c with respect to a = 20.0\n",
            "Derivative of c with respect to b = 15.0\n"
          ]
        }
      ]
    },
    {
      "cell_type": "markdown",
      "source": [
        "Slide 60: Example of JIT"
      ],
      "metadata": {
        "id": "BODm_YKV2Mlb"
      }
    },
    {
      "cell_type": "code",
      "source": [
        "import torch\n",
        "import torch.nn as nn\n",
        "# Define the model as a class\n",
        "class MultiplyModel (nn.Module):\n",
        "       def __init__(self):\n",
        "          super(MultiplyModel, self).__init__()\n",
        "          self.linear = nn.Linear(1, 1)\n",
        "       def forward(self, x):\n",
        "          return self.linear(x)\n",
        "\n",
        "# Create an instance of the model\n",
        "model = MultiplyModel()\n",
        "# Create example inputs\n",
        "\n",
        "a = torch.tensor([15.0])\n",
        "b = torch.tensor([20.0])\n",
        "\n",
        "# Compile the model to a static graph using JIT\n",
        "model = torch.jit.trace(model, a)\n",
        "\n",
        "# Execute the model on the inputs\n",
        "c = model(a * b)\n",
        "\n",
        "# Display the output\n",
        "print (f'c = {c}')\n",
        "\n",
        "# for p in model.parameters():\n",
        "#     if p.requires_grad:\n",
        "#          print(p.name, p.data)\n",
        "\n"
      ],
      "metadata": {
        "colab": {
          "base_uri": "https://localhost:8080/"
        },
        "id": "8CSWro5c2SU4",
        "outputId": "169e5630-029e-41d5-d645-a63c0568a266"
      },
      "execution_count": null,
      "outputs": [
        {
          "output_type": "stream",
          "name": "stdout",
          "text": [
            "c = tensor([85.8739], grad_fn=<ViewBackward0>)\n"
          ]
        }
      ]
    },
    {
      "cell_type": "code",
      "source": [],
      "metadata": {
        "id": "YLoo6aMnEHLF"
      },
      "execution_count": null,
      "outputs": []
    },
    {
      "cell_type": "code",
      "source": [],
      "metadata": {
        "id": "X2nNbM7PEHaO"
      },
      "execution_count": null,
      "outputs": []
    },
    {
      "cell_type": "code",
      "source": [],
      "metadata": {
        "id": "pmQ5da-6EEZ2"
      },
      "execution_count": null,
      "outputs": []
    },
    {
      "cell_type": "code",
      "source": [],
      "metadata": {
        "id": "qBgQHjzJwnIE"
      },
      "execution_count": null,
      "outputs": []
    }
  ]
}