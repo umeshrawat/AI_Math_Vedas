{
  "nbformat": 4,
  "nbformat_minor": 0,
  "metadata": {
    "colab": {
      "provenance": [],
      "include_colab_link": true
    },
    "kernelspec": {
      "name": "python3",
      "display_name": "Python 3"
    },
    "language_info": {
      "name": "python"
    }
  },
  "cells": [
    {
      "cell_type": "markdown",
      "metadata": {
        "id": "view-in-github",
        "colab_type": "text"
      },
      "source": [
        "<a href=\"https://colab.research.google.com/github/umeshrawat/AI_Math_Vedas/blob/master/bert_embeddings_layer.ipynb\" target=\"_parent\"><img src=\"https://colab.research.google.com/assets/colab-badge.svg\" alt=\"Open In Colab\"/></a>"
      ]
    },
    {
      "cell_type": "code",
      "execution_count": null,
      "metadata": {
        "id": "ADTV-plRmgOb"
      },
      "outputs": [],
      "source": [
        "import torch\n",
        "import torch.nn as nn"
      ]
    },
    {
      "cell_type": "code",
      "source": [
        "class Embedding(nn.Module):\n",
        "   def __init__(self, vocab_size, max_len, d_model, n_segments = 2):\n",
        "       super(Embedding, self).__init__()\n",
        "       self.tok_embed = nn.Embedding(vocab_size, d_model)  # token embedding: E_dog, E_my\n",
        "       self.pos_embed = nn.Embedding(max_len, d_model)  # position embedding: E_0, E_1 ...E_T\n",
        "       self.seg_embed = nn.Embedding(n_segments, d_model)  # segment(token type) embedding\n",
        "       self.norm = nn.LayerNorm(d_model)\n",
        "\n",
        "   def forward(self, x, seg):\n",
        "       seq_len = x.size(1) # 3\n",
        "       pos = torch.arange(seq_len, dtype=torch.long) # [0, 1, 2]\n",
        "       pos = pos.unsqueeze(0).expand_as(x)  # (seq_len,) -> (batch_size, seq_len)\n",
        "       # [\n",
        "       #   [0, 1, 2],\n",
        "       #   [0, 1, 2]\n",
        "       # ]\n",
        "       embedding = self.tok_embed(x) + self.pos_embed(pos) + self.seg_embed(seg)\n",
        "       return self.norm(embedding)"
      ],
      "metadata": {
        "id": "llQbrVkJmqoQ"
      },
      "execution_count": null,
      "outputs": []
    },
    {
      "cell_type": "code",
      "source": [
        "x = torch.Tensor([[1, 2, 3], [10, 20, 30]])"
      ],
      "metadata": {
        "id": "pHRW3TPInFYV"
      },
      "execution_count": null,
      "outputs": []
    },
    {
      "cell_type": "code",
      "source": [
        "print(x)"
      ],
      "metadata": {
        "colab": {
          "base_uri": "https://localhost:8080/"
        },
        "id": "1tYGtTq4iBNY",
        "outputId": "77f7433b-080b-4d69-a4ac-adc899cbdcd0"
      },
      "execution_count": null,
      "outputs": [
        {
          "output_type": "stream",
          "name": "stdout",
          "text": [
            "tensor([[ 1.,  2.,  3.],\n",
            "        [10., 20., 30.]])\n"
          ]
        }
      ]
    },
    {
      "cell_type": "code",
      "source": [
        "seq_len = x.size(1)\n",
        "print(\"seq_len\", seq_len) # 3\n",
        "pos = torch.arange(seq_len, dtype=torch.long)\n",
        "print(\"pos\", pos)\n",
        "print(\"pos.unsqueeze(0)\", pos.unsqueeze(0))\n",
        "print(\"pos.unsqueeze(0).expand_as(x)\\n\", pos.unsqueeze(0).expand_as(x))"
      ],
      "metadata": {
        "colab": {
          "base_uri": "https://localhost:8080/"
        },
        "id": "q7A2OMj5owxJ",
        "outputId": "bb63c658-154c-442e-d470-70ba1e860125"
      },
      "execution_count": null,
      "outputs": [
        {
          "output_type": "stream",
          "name": "stdout",
          "text": [
            "seq_len 3\n",
            "pos tensor([0, 1, 2])\n",
            "pos.unsqueeze(0) tensor([[0, 1, 2]])\n",
            "pos.unsqueeze(0).expand_as(x)\n",
            " tensor([[0, 1, 2],\n",
            "        [0, 1, 2]])\n"
          ]
        }
      ]
    },
    {
      "cell_type": "code",
      "source": [
        "pos = torch.arange(3, dtype=torch.long)\n",
        "print(pos)\n"
      ],
      "metadata": {
        "id": "AXw-4hkmpC1Q",
        "colab": {
          "base_uri": "https://localhost:8080/"
        },
        "outputId": "471c457f-c420-46b6-a6f4-23de26218f6b"
      },
      "execution_count": null,
      "outputs": [
        {
          "output_type": "stream",
          "name": "stdout",
          "text": [
            "tensor([0, 1, 2])\n"
          ]
        }
      ]
    }
  ]
}