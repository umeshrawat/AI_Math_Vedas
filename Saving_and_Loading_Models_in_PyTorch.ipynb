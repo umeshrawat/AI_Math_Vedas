{
  "cells": [
    {
      "cell_type": "markdown",
      "metadata": {
        "id": "view-in-github",
        "colab_type": "text"
      },
      "source": [
        "<a href=\"https://colab.research.google.com/github/umeshrawat/AI_Math_Vedas/blob/master/Saving_and_Loading_Models_in_PyTorch.ipynb\" target=\"_parent\"><img src=\"https://colab.research.google.com/assets/colab-badge.svg\" alt=\"Open In Colab\"/></a>"
      ]
    },
    {
      "metadata": {
        "_uuid": "f3f41e90bea0bce89287f717d8420ad8c23c9467",
        "id": "ShlJX05510nr"
      },
      "cell_type": "markdown",
      "source": [
        "# Saving and Loading Models in PyTorch\n",
        "\n",
        "In this notebook, I'll show you how to save and load models with PyTorch.\n",
        "Working on a Deep Learning project usually takes time, and there are many things to tweak and change over time.\n",
        "Whether you \"babysit\" your model while training or you leave it and go do something else, It's always a good practice to save checkpoints of your model for many reasons.\n",
        "\n",
        "* You need to save the best model to be used for prediction\n",
        "\n",
        "* You may want to save the latest state of a model to be able to continue training and fine tune later"
      ]
    },
    {
      "metadata": {
        "trusted": true,
        "_uuid": "710bc067da7f57d201a79d526bfbe277a403dfcc",
        "id": "wb1arNR310ns"
      },
      "cell_type": "code",
      "source": [
        "%matplotlib inline\n",
        "%config InlineBackend.figure_format = 'retina'\n",
        "\n",
        "import matplotlib.pyplot as plt\n",
        "\n",
        "import torch\n",
        "from torch import nn\n",
        "from torch import optim\n",
        "import torch.nn.functional as F\n",
        "from torchvision import datasets, transforms\n",
        "import numpy as np\n"
      ],
      "execution_count": null,
      "outputs": []
    },
    {
      "metadata": {
        "_uuid": "63aa687ee033d958fce75de6e3a2f2e137905bea",
        "id": "mYL7TgSD10ns"
      },
      "cell_type": "markdown",
      "source": [
        "# Define your model"
      ]
    },
    {
      "metadata": {
        "trusted": true,
        "_uuid": "0497c54c7d11136ce2a6c24acfb8dca1905c801a",
        "id": "Ck-0Pd8U10ns"
      },
      "cell_type": "code",
      "source": [
        "# Define your network ( Simple Example )\n",
        "class FashionClassifier(nn.Module):\n",
        "    def __init__(self):\n",
        "        super().__init__()\n",
        "        input_size = 784\n",
        "        self.fc1 = nn.Linear(input_size, 512)\n",
        "        self.fc2 = nn.Linear(512, 256)\n",
        "        self.fc3 = nn.Linear(256, 128)\n",
        "        self.fc4 = nn.Linear(128, 64)\n",
        "        self.fc5 = nn.Linear(64,10)\n",
        "        self.dropout = nn.Dropout(p=0.2)\n",
        "\n",
        "    def forward(self, x):\n",
        "        x = x.view(x.shape[0], -1)\n",
        "        x = self.dropout(F.relu(self.fc1(x)))\n",
        "        x = self.dropout(F.relu(self.fc2(x)))\n",
        "        x = self.dropout(F.relu(self.fc3(x)))\n",
        "        x = self.dropout(F.relu(self.fc4(x)))\n",
        "        x = F.log_softmax(self.fc5(x), dim=1)\n",
        "        return x"
      ],
      "execution_count": null,
      "outputs": []
    },
    {
      "metadata": {
        "_uuid": "5a520d92404544f361dde997e453a7ef3d814860",
        "id": "3VSCn1hb10nt"
      },
      "cell_type": "markdown",
      "source": [
        "# Prepare the dataset"
      ]
    },
    {
      "metadata": {
        "trusted": true,
        "_uuid": "0b2c41d59c91fcac36c0fe5e58222e47e53043d7",
        "id": "lsMYhy9G10nt"
      },
      "cell_type": "code",
      "source": [
        "# Define a transform to normalize the data\n",
        "transform = transforms.Compose([transforms.ToTensor(),\n",
        "                                transforms.Normalize((0.5, 0.5, 0.5), (0.5, 0.5, 0.5))])\n",
        "# Download and load the training data\n",
        "trainset = datasets.FashionMNIST('F_MNIST_data/', download=True, train=True, transform=transform)\n",
        "trainloader = torch.utils.data.DataLoader(trainset, batch_size=64, shuffle=True)\n",
        "\n",
        "# Download and load the test data\n",
        "testset = datasets.FashionMNIST('F_MNIST_data/', download=True, train=False, transform=transform)\n",
        "testloader = torch.utils.data.DataLoader(testset, batch_size=64, shuffle=True)"
      ],
      "execution_count": null,
      "outputs": []
    },
    {
      "metadata": {
        "_uuid": "5ff312a7408453cdada73f449dc427749ad33bdf",
        "id": "nBjw9VO810nt"
      },
      "cell_type": "markdown",
      "source": [
        "# Train the network"
      ]
    },
    {
      "metadata": {
        "trusted": true,
        "_uuid": "0afb9380f20180f184cba067e4e6a8a9ed2d3428",
        "id": "jchgXsPj10nt"
      },
      "cell_type": "code",
      "source": [
        "# Create the network, define the criterion and optimizer\n",
        "model = FashionClassifier()\n",
        "criterion = nn.NLLLoss()\n",
        "optimizer = optim.Adam(model.parameters(), lr=0.001)\n"
      ],
      "execution_count": null,
      "outputs": []
    },
    {
      "metadata": {
        "trusted": true,
        "_uuid": "6a15743dad1a3d98fb2ba69b3d26a29dbf7ab5df",
        "id": "NzmEemJe10nt"
      },
      "cell_type": "code",
      "source": [
        "## Train for few epochs\n",
        "epochs = 3\n",
        "train_losses = []\n",
        "test_losses = []\n",
        "min_loss = np.Inf\n",
        "\n",
        "for i in range(epochs):\n",
        "    train_loss = 0\n",
        "    train_acc = 0\n",
        "    test_loss = 0\n",
        "    test_acc = 0\n",
        "\n",
        "    # Training step\n",
        "    model.train()\n",
        "    for images, labels in trainloader:\n",
        "        optimizer.zero_grad()\n",
        "        log_ps = model.forward(images)\n",
        "        loss = criterion(log_ps, labels)\n",
        "        loss.backward()\n",
        "        optimizer.step()\n",
        "        train_loss += loss.item()\n",
        "        ps = torch.exp(log_ps)\n",
        "        top_p, top_class = ps.topk(1, dim=1)\n",
        "        equals = top_class == labels.view(top_class.shape)\n",
        "        acc = torch.mean(equals.type(torch.FloatTensor))\n",
        "        train_acc += acc.item()\n",
        "\n",
        "    # Validation Step\n",
        "    with torch.no_grad():\n",
        "        model.eval()\n",
        "\n",
        "        for images, labels in testloader:\n",
        "            log_ps = model.forward(images)\n",
        "            test_loss += criterion(log_ps, labels).item()\n",
        "            ps = torch.exp(log_ps)\n",
        "            top_p, top_class = ps.topk(1, dim=1)\n",
        "            equals = top_class == labels.view(top_class.shape)\n",
        "            test_acc += torch.mean(equals.type(torch.FloatTensor)).item()\n",
        "\n",
        "    train_losses.append(train_loss/len(trainloader))\n",
        "    test_losses.append(test_loss/len(testloader))\n",
        "\n",
        "    print(\"Epoch:\",i+1,\n",
        "          \"Train loss:\",train_loss/len(trainloader),\n",
        "          \"TrainAcc:\",100*train_acc/len(trainloader),\n",
        "          \"Test loss:\",test_loss/len(testloader),\n",
        "          \"Test Acc:\",100*test_acc/len(testloader))\n",
        "\n",
        "\n",
        "\n",
        "\n",
        "\n",
        ""
      ],
      "execution_count": null,
      "outputs": []
    },
    {
      "metadata": {
        "_uuid": "91e5a55f6d2c709972e7875de1f81b41b591c971",
        "id": "bmGcjWuF10nt"
      },
      "cell_type": "markdown",
      "source": [
        "---\n",
        "## Saving the model\n",
        "The parameters for PyTorch networks are stored in a model's `state_dict`. It includes the parameters matrices for each of the layers."
      ]
    },
    {
      "metadata": {
        "trusted": true,
        "_uuid": "20c14d4ead3725e96ceeacf44ae015900a113941",
        "id": "OIGxK0cX10nt"
      },
      "cell_type": "code",
      "source": [
        "print(\"The state dict keys: \\n\\n\", model.state_dict().keys())"
      ],
      "execution_count": null,
      "outputs": []
    },
    {
      "metadata": {
        "_uuid": "1dd522e7ee64fb4a12a83a5b1ada90d15f33e0a9",
        "id": "puORSA4_10nt"
      },
      "cell_type": "markdown",
      "source": [
        "We will need to reconstruct the model exactly as it was when trained at loading time, So we need to store information about the model architecture in the checkpoint, along with the state dict.\n",
        "\n",
        "If you are planning to continue training of the model you'll need to store the optimizer state too.\n",
        "\n",
        "To do this, you build a dictionary with all the information you need to compeletely rebuild the model."
      ]
    },
    {
      "metadata": {
        "trusted": true,
        "_uuid": "78be0e5efeb7ef2401c9a072ecf47c7454737112",
        "id": "2LtC1_bY10nt"
      },
      "cell_type": "code",
      "source": [
        "checkpoint = {'model': FashionClassifier(),\n",
        "              'state_dict': model.state_dict(),\n",
        "              'optimizer' : optimizer.state_dict()}\n",
        "\n",
        "torch.save(checkpoint, 'checkpoint.pth')"
      ],
      "execution_count": null,
      "outputs": []
    },
    {
      "metadata": {
        "_uuid": "eabebf78efa7c0097332961490ed31519fd1d345",
        "id": "egNTEmeB10nt"
      },
      "cell_type": "markdown",
      "source": [
        "---\n",
        "# Loading the model"
      ]
    },
    {
      "metadata": {
        "_uuid": "3f2f3118496ee6cf1b6e24716d0ed6ae7dd70951",
        "id": "MHlOs4BD10nt"
      },
      "cell_type": "markdown",
      "source": [
        "Loading is as simple as Saving.\n",
        "* Reconstruct the model\n",
        "* Load the state dict to the model\n",
        "* Freeze the parameters and enter evaluation mode if you're loading for inference\n"
      ]
    },
    {
      "metadata": {
        "trusted": true,
        "_uuid": "5b3a154373381e7a5ca48cc1f193f87b2054bc59",
        "id": "nVtKKIg710nt"
      },
      "cell_type": "code",
      "source": [
        "def load_checkpoint(filepath):\n",
        "    checkpoint = torch.load(filepath)\n",
        "    model = checkpoint['model']\n",
        "    model.load_state_dict(checkpoint['state_dict'])\n",
        "    for parameter in model.parameters():\n",
        "        parameter.requires_grad = False\n",
        "\n",
        "    model.eval()\n",
        "\n",
        "    return model"
      ],
      "execution_count": null,
      "outputs": []
    },
    {
      "metadata": {
        "trusted": true,
        "_uuid": "3ce9f39ff5dad63d5638c86c4c5c3cf88fde2fbd",
        "id": "j57CfF2o10nt"
      },
      "cell_type": "code",
      "source": [
        "model = load_checkpoint('checkpoint.pth')\n",
        "print(model)"
      ],
      "execution_count": null,
      "outputs": []
    },
    {
      "metadata": {
        "trusted": true,
        "_uuid": "02cafe7b9ba3b178c87b18d882a0b6c4d6ff9811",
        "id": "m9EmGWy-10nt"
      },
      "cell_type": "code",
      "source": [],
      "execution_count": null,
      "outputs": []
    }
  ],
  "metadata": {
    "kernelspec": {
      "display_name": "Python 3",
      "name": "python3"
    },
    "language_info": {
      "name": "python",
      "version": "3.6.6",
      "mimetype": "text/x-python",
      "codemirror_mode": {
        "name": "ipython",
        "version": 3
      },
      "pygments_lexer": "ipython3",
      "nbconvert_exporter": "python",
      "file_extension": ".py"
    },
    "colab": {
      "name": "Saving and Loading Models in PyTorch",
      "provenance": [],
      "gpuType": "T4",
      "include_colab_link": true
    },
    "accelerator": "GPU"
  },
  "nbformat": 4,
  "nbformat_minor": 0
}